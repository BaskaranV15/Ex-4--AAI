{
  "nbformat": 4,
  "nbformat_minor": 0,
  "metadata": {
    "colab": {
      "provenance": [],
      "authorship_tag": "ABX9TyP5/WHMuBlxpnTxd+RZoQ8S",
      "include_colab_link": true
    },
    "kernelspec": {
      "name": "python3",
      "display_name": "Python 3"
    },
    "language_info": {
      "name": "python"
    }
  },
  "cells": [
    {
      "cell_type": "markdown",
      "metadata": {
        "id": "view-in-github",
        "colab_type": "text"
      },
      "source": [
        "<a href=\"https://colab.research.google.com/github/BaskaranV15/Ex-4--AAI/blob/main/AI_EX__4ipynb.ipynb\" target=\"_parent\"><img src=\"https://colab.research.google.com/assets/colab-badge.svg\" alt=\"Open In Colab\"/></a>"
      ]
    },
    {
      "cell_type": "code",
      "execution_count": null,
      "metadata": {
        "id": "0didAmNEs3Y9"
      },
      "outputs": [],
      "source": [
        "import numpy as np"
      ]
    },
    {
      "cell_type": "code",
      "source": [
        "transition_matrix=np.array([[0.7,0.3],[0.4,0.6]])"
      ],
      "metadata": {
        "id": "XE33Hq3btDq2"
      },
      "execution_count": null,
      "outputs": []
    },
    {
      "cell_type": "markdown",
      "source": [
        "hh(0.7),hc(0.4) and ch("
      ],
      "metadata": {
        "id": "zId75DNXtfHK"
      }
    },
    {
      "cell_type": "code",
      "source": [
        "emission_matrix=np.array([[0.1,0.2],[0.8,0.2]])"
      ],
      "metadata": {
        "id": "thG6cDjytdTx"
      },
      "execution_count": null,
      "outputs": []
    },
    {
      "cell_type": "code",
      "source": [
        "observed_squence=np.array([1,1,1,0,0,1])"
      ],
      "metadata": {
        "id": "DqnLCFc8t-1G"
      },
      "execution_count": null,
      "outputs": []
    },
    {
      "cell_type": "code",
      "source": [
        "initial_probilities=np.array([0.5,0.5])"
      ],
      "metadata": {
        "id": "PPMrYzjAumGI"
      },
      "execution_count": null,
      "outputs": []
    },
    {
      "cell_type": "code",
      "source": [
        "alpha=np.zeros((len(observed_squence),len(initial_probilities)))"
      ],
      "metadata": {
        "id": "ry8Xs-7luQtC"
      },
      "execution_count": null,
      "outputs": []
    },
    {
      "cell_type": "code",
      "source": [
        "alpha"
      ],
      "metadata": {
        "colab": {
          "base_uri": "https://localhost:8080/"
        },
        "id": "1VChELVtu7xo",
        "outputId": "05cf39a1-dd38-4b30-b39f-bcb029f77ee9"
      },
      "execution_count": null,
      "outputs": [
        {
          "output_type": "execute_result",
          "data": {
            "text/plain": [
              "array([[0., 0.],\n",
              "       [0., 0.],\n",
              "       [0., 0.],\n",
              "       [0., 0.],\n",
              "       [0., 0.],\n",
              "       [0., 0.]])"
            ]
          },
          "metadata": {},
          "execution_count": 10
        }
      ]
    },
    {
      "cell_type": "code",
      "source": [
        "alpha[0,:]=initial_probilities*emission_matrix[:,observed_squence[0]]"
      ],
      "metadata": {
        "id": "m87vmHZ_u831"
      },
      "execution_count": null,
      "outputs": []
    },
    {
      "cell_type": "code",
      "source": [
        "for t in range(1,len(observed_squence)):\n",
        "  for j in range(len(initial_probilities)):\n",
        "    alpha[t,j]=emission_matrix[j,observed_squence[t]]*np.sum(alpha[t-1, :]*\n",
        "                                      transition_matrix[:,j])"
      ],
      "metadata": {
        "id": "VcVCrLuZvi2b"
      },
      "execution_count": null,
      "outputs": []
    },
    {
      "cell_type": "code",
      "source": [
        "probability=np.sum(alpha[-1,:])"
      ],
      "metadata": {
        "id": "2gkVcSVbwYED"
      },
      "execution_count": null,
      "outputs": []
    },
    {
      "cell_type": "code",
      "source": [
        "print(\"The probability of the observed sequence is:\",probability)"
      ],
      "metadata": {
        "colab": {
          "base_uri": "https://localhost:8080/"
        },
        "id": "511HgipEwqXi",
        "outputId": "7c6484ae-87a1-45f3-f236-35800530de88"
      },
      "execution_count": null,
      "outputs": [
        {
          "output_type": "stream",
          "name": "stdout",
          "text": [
            "The probability of the observed sequence is: 0.0003147880000000001\n"
          ]
        }
      ]
    },
    {
      "cell_type": "code",
      "source": [
        "most_likely_sequence=[]\n",
        "for t in range(len(observed_squence)):\n",
        "  if alpha[t,0] > alpha[t,1]:\n",
        "    most_likely_sequence.append(\"sunny\")\n",
        "  else:\n",
        "    most_likely_sequence.append(\"rainy\")"
      ],
      "metadata": {
        "id": "2JeLZOjdw5wW"
      },
      "execution_count": null,
      "outputs": []
    },
    {
      "cell_type": "code",
      "source": [
        "print(\"The most likely sequences of weather states is:\",most_likely_sequence)"
      ],
      "metadata": {
        "colab": {
          "base_uri": "https://localhost:8080/"
        },
        "id": "0AbcKBKQxiO_",
        "outputId": "1ef8c1ae-aea1-432e-e7f7-ff8347a446a6"
      },
      "execution_count": null,
      "outputs": [
        {
          "output_type": "stream",
          "name": "stdout",
          "text": [
            "The most likely sequences of weather states is: ['rainy', 'sunny', 'sunny', 'rainy', 'rainy', 'rainy']\n"
          ]
        }
      ]
    }
  ]
}